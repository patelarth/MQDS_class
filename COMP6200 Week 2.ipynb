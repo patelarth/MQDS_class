{
 "cells": [
  {
   "cell_type": "markdown",
   "metadata": {},
   "source": [
    "# Title\n",
    "The goal this week is to pratice using Markdown to write descriptive text in notebooks and then look at Python data structures including the pandas module that supports data structures designed for handling the kind of data we'll be working with.  \n",
    "\n",
    "There is probably too much work to complete here in the workshop session, but please use this notebook after the workshop to practice your Python.  Remember to commit your changes to git as you go and push back to Github when you are done."
   ]
  },
  {
   "cell_type": "code",
   "execution_count": 38,
   "metadata": {},
   "outputs": [],
   "source": [
    "student_name = \"Arth Mukeshbhai Patel\"\n",
    "student_id = \"46117253\""
   ]
  },
  {
   "cell_type": "markdown",
   "metadata": {},
   "source": [
    "## Markdown Practice\n",
    "\n",
    "Complete this section as per the instructions in the iLearn practical page.  Add the required cells below this one."
   ]
  },
  {
   "cell_type": "markdown",
   "metadata": {},
   "source": [
    "# Markdown samples\n",
    "\n",
    "Here are three useful features of [Markdown](https://daringfireball.net/projects/markdown/):\n",
    "<ol>\n",
    "<li>It is easy to write</li>\n",
    "<li>It can be turned into HTML automatically</li>\n",
    "<li>It can be used to add simple formatting to text</li>\n",
    "    <ul>\n",
    "        <li>for example <b>bold text</b> and <i>italics</i></li>\n",
    "        <li>It can be turned into HTML automatically</li>\n",
    "      </ul>\n",
    "\n",
    "this expression $\\sqrt(3x-1)+(1+x)^2$ is example of a TeX inline equation in a [Markdown-formatted](https://daringfireball.net/projects/markdown/) sentence.\n",
    "\n",
    "Here is a sample of code:\n",
    "       \n",
    "     git pull --rebase upstream master\n",
    "   \n",
    "and here is an image inserted into page:![gitimage](https://git-scm.com/images/logos/downloads/Git-Logo-2Color.png)\n"
   ]
  },
  {
   "cell_type": "markdown",
   "metadata": {},
   "source": [
    "## Lists and Dictionaries\n",
    "\n",
    "First we look at some built in Python data structures: lists and dictionaries. \n",
    "\n",
    "A list is a sequence of things, unlike strongly typed languages (Java, C#) a list can contain a mixture of different types - there is no type for a list of integers or a list of lists.   Here are some lists:"
   ]
  },
  {
   "cell_type": "code",
   "execution_count": 2,
   "metadata": {},
   "outputs": [],
   "source": [
    "ages = [12, 99, 51, 3, 55]\n",
    "names = ['steve', 'jim', 'mary', 'carrie', 'zin']\n",
    "stuff = [12, 'eighteen', 6, ['another', 'list']]"
   ]
  },
  {
   "cell_type": "markdown",
   "metadata": {},
   "source": [
    "1. write code to print the first and third elements of each list\n",
    "2. write code to select and print everything except the first element of each list\n",
    "3. write a for loop that prints each element of the 'names' list"
   ]
  },
  {
   "cell_type": "code",
   "execution_count": 3,
   "metadata": {},
   "outputs": [
    {
     "name": "stdout",
     "output_type": "stream",
     "text": [
      "first elements 12  third elements 51\n",
      "without first element [99, 51, 3, 55]\n",
      "first elements steve  third elements mary\n",
      "without first element ['jim', 'mary', 'carrie', 'zin']\n",
      "first elements 12  third elements 6\n",
      "without first element ['eighteen', 6, ['another', 'list']]\n",
      "steve\n",
      "jim\n",
      "mary\n",
      "carrie\n",
      "zin\n"
     ]
    }
   ],
   "source": [
    "for udata in [ages,names,stuff]:\n",
    "    print(\"first elements\",udata[0],\" third elements\",udata[2])\n",
    "    print(\"without first element\",udata[1:])\n",
    "    \n",
    "for namedata in names:\n",
    "    print(namedata)"
   ]
  },
  {
   "cell_type": "markdown",
   "metadata": {},
   "source": [
    "A dictionary is an associative array - it associates a value (any Python data type) with a key. The key is usually a string but can be any immutable type (string, number, tuple).  Here's some code that counts the occurence of words in a string.  It stores the count for each word in a dictionary using the word as a key. If the word is already stored in the dictionary, it adds one to the count, if not, it initialises the count to one.  \n",
    "\n",
    "The second for loop iterates over the keys in the dictionary and prints one line per entry.\n",
    "\n",
    "Modify this example to be a bit smarter:\n",
    "- make sure that punctuation characters are not included as parts of a word, be careful with hyphens - should they be included or not?\n",
    "- make the count use the lowercase version of a word, so that 'The' and 'the' are counted as the same word\n",
    "- **Challenge**: find the first and second most frequent words in the text\n",
    "- **Challenge**: take your code and write it as a function that takes a string and returns a list of words with their counts in order"
   ]
  },
  {
   "cell_type": "code",
   "execution_count": 30,
   "metadata": {},
   "outputs": [
    {
     "name": "stdout",
     "output_type": "stream",
     "text": [
      "this 2\n",
      "unit 3\n",
      "introduces 1\n",
      "students 2\n",
      "to 4\n",
      "the 6\n",
      "fundamental 1\n",
      "techniques 1\n",
      "and 3\n",
      "tools 2\n",
      "of 3\n",
      "data 6\n",
      "science 2\n",
      "such 1\n",
      "as 1\n",
      "graphical 1\n",
      "display 1\n",
      "predictive 1\n",
      "models 1\n",
      "evaluation 1\n",
      "methodologies 1\n",
      "regression 1\n",
      "classification 1\n",
      "clustering 1\n",
      "provides 1\n",
      "practical 1\n",
      "experience 1\n",
      "applying 1\n",
      "these 2\n",
      "methods 3\n",
      "using 1\n",
      "industry-standard 1\n",
      "software 1\n",
      "real-world 2\n",
      "sets 1\n",
      "who 1\n",
      "have 2\n",
      "completed 1\n",
      "will 1\n",
      "be 1\n",
      "able 1\n",
      "identify 1\n",
      "which 1\n",
      "are 1\n",
      "most 1\n",
      "appropriate 1\n",
      "for 1\n",
      "a 1\n",
      "set 2\n",
      "apply 1\n",
      "interpret 1\n",
      "results 1\n",
      "analysis 1\n",
      "they 1\n",
      "performed 1\n",
      "\n",
      "first and second most frequent words in the text [('the', 6), ('data', 6)]\n"
     ]
    },
    {
     "data": {
      "text/plain": [
       "[['this', 1],\n",
       " ['unit', 1],\n",
       " ['introduces', 1],\n",
       " ['students', 1],\n",
       " ['to', 1],\n",
       " ['the', 2],\n",
       " ['fundamental', 1],\n",
       " ['techniques', 1],\n",
       " ['and', 2],\n",
       " ['tools', 1],\n",
       " ['of', 2],\n",
       " ['data', 2],\n",
       " ['science', 1],\n",
       " ['such', 1],\n",
       " ['as', 1],\n",
       " ['graphical', 1],\n",
       " ['display', 1],\n",
       " ['predictive', 1],\n",
       " ['models', 1],\n",
       " ['evaluation', 1],\n",
       " ['methodologies', 1],\n",
       " ['regression', 1],\n",
       " ['classification', 1],\n",
       " ['clustering', 1]]"
      ]
     },
     "execution_count": 30,
     "metadata": {},
     "output_type": "execute_result"
    }
   ],
   "source": [
    "description = \"\"\"This unit introduces students to the fundamental techniques and \n",
    "tools of data science, such as the graphical display of data, \n",
    "predictive models, evaluation methodologies, regression, \n",
    "classification and clustering. The unit provides practical \n",
    "experience applying these methods using industry-standard \n",
    "software tools to real-world data sets. Students who have \n",
    "completed this unit will be able to identify which data \n",
    "science methods are most appropriate for a real-world data \n",
    "set, apply these methods to the data set, and interpret the \n",
    "results of the analysis they have performed. \"\"\"\n",
    "\n",
    "count = dict()\n",
    "for word in description.split():\n",
    "    word = word.strip(',').strip('.').lower()\n",
    "    if word not in count:\n",
    "        count[word] = 0\n",
    "    count[word] += 1\n",
    "        \n",
    "for word in count:\n",
    "    print(word, count[word])\n",
    "\n",
    "    \n",
    "#sorting\n",
    "print(\"\\nfirst and second most frequent words in the text\",sorted(count.items(), key=lambda item: -item[1])[:2])\n",
    "\n",
    "\n",
    "#using function\n",
    "def counter_func(string_arg):\n",
    "    counter1 = {}\n",
    "    for word in string_arg.split():\n",
    "        word = word.strip(',').strip('.').lower()\n",
    "        if word not in counter1:\n",
    "            counter1[word] = 0\n",
    "        counter1[word] += 1\n",
    "    list_word_with_count = []\n",
    "    for key,value in counter1.items():\n",
    "        list_word_with_count.append([key,value])\n",
    "    return list_word_with_count\n",
    "counter_func('''This unit introduces students to the fundamental techniques and \n",
    "tools of data science, such as the graphical display of data, \n",
    "predictive models, evaluation methodologies, regression, \n",
    "classification and clustering.''')\n"
   ]
  },
  {
   "cell_type": "markdown",
   "metadata": {},
   "source": [
    "## Pandas Data Frames\n",
    "\n",
    "[Pandas](https://pandas.pydata.org) is a Python module that provides some important data structures for Data Science work and a large collection of methods for data analysis. \n",
    "\n",
    "The two main data structures are the [Series]() and [DataFrame](http://pandas.pydata.org/pandas-docs/stable/dsintro.html#dataframe).  \n",
    "\n",
    "A Series is a one dimensional array of data, but unlike the Python list the data is indexed - the index is like the dictionary key, any immutable value like a number or string.  You can use the label to select elements from the series as well as positional values.  \n",
    "\n",
    "A DataFrame is analogous to a spreadsheet - a two dimensional table of data with indexed rows and named columns. \n",
    "\n",
    "You should read up on these and follow the examples in the text.  Here are a few exercises to complete with data frames."
   ]
  },
  {
   "cell_type": "markdown",
   "metadata": {},
   "source": [
    "You are given three csv files containing sample data."
   ]
  },
  {
   "cell_type": "code",
   "execution_count": 31,
   "metadata": {},
   "outputs": [],
   "source": [
    "import pandas as pd\n",
    "import numpy as np\n",
    "import matplotlib.pyplot as plt\n",
    "%matplotlib inline\n",
    "\n",
    "ds1 = 'files/ds1.csv'\n",
    "ds2 = 'files/ds2.csv'\n",
    "ds3 = 'files/ds3.csv'"
   ]
  },
  {
   "cell_type": "markdown",
   "metadata": {},
   "source": [
    "Write code below to read one of these data files into a pandas data frame and:\n",
    "- show the first few rows: .head\n",
    "- find the summary data for each column: .describe\n",
    "- select just those rows where the value of x and y is over 50\n",
    "- select the column 'x' and create a series\n",
    "- plot the 'x' series as a line graph\n",
    "- plot the dataframe as a scatterplot\n",
    "\n",
    "Once you have the code for this, you can change the file you use for input of the data (ds2, ds3) and re-run the following cells to see the different output that is generated"
   ]
  },
  {
   "cell_type": "code",
   "execution_count": 34,
   "metadata": {},
   "outputs": [
    {
     "name": "stdout",
     "output_type": "stream",
     "text": [
      "         x        y\n",
      "0  55.3846  97.1795\n",
      "1  51.5385  96.0256\n",
      "2  46.1538  94.4872\n",
      "3  42.8205  91.4103\n",
      "4  40.7692  88.3333\n",
      "           x        y\n",
      "137  39.4872  25.3846\n",
      "138  91.2821  41.5385\n",
      "139  50.0000  95.7692\n",
      "140  47.9487  95.0000\n",
      "141  44.1026  92.6923\n",
      "                x           y\n",
      "count  142.000000  142.000000\n",
      "mean    54.263273   47.832253\n",
      "std     16.765142   26.935403\n",
      "min     22.307700    2.948700\n",
      "25%     44.102600   25.288450\n",
      "50%     53.333300   46.025600\n",
      "75%     64.743600   68.525675\n",
      "max     98.205100   99.487200\n",
      "          x        y\n",
      "0   55.3846  97.1795\n",
      "1   51.5385  96.0256\n",
      "22  53.0769  55.6410\n",
      "23  56.6667  56.0256\n",
      "24  59.2308  57.9487\n",
      "\n",
      " filtering using another type and \n",
      "           x        y\n",
      "0   55.3846  97.1795\n",
      "1   51.5385  96.0256\n",
      "22  53.0769  55.6410\n",
      "23  56.6667  56.0256\n",
      "24  59.2308  57.9487\n",
      "25  61.2821  62.1795\n",
      "26  61.5385  66.4103\n",
      "27  61.7949  69.1026\n",
      "28  57.4359  55.2564\n",
      "60  70.5128  53.7180\n",
      "61  71.5385  60.6410\n",
      "62  71.5385  64.4872\n",
      "63  69.4872  69.4872\n",
      "67  53.0769  85.2564\n",
      "68  55.3846  86.0256\n",
      "69  56.6667  86.0256\n",
      "70  56.1538  82.9487\n",
      "71  53.8462  80.6410\n",
      "72  51.2821  78.7180\n",
      "78  57.9487  99.4872\n",
      "79  61.7949  99.1026\n",
      "80  64.8718  97.5641\n",
      "81  68.4615  94.1026\n",
      "82  70.7692  91.0256\n",
      "83  72.0513  86.4103\n",
      "84  73.8462  83.3333\n",
      "85  75.1282  79.1026\n",
      "86  76.6667  75.2564\n",
      "87  77.6923  71.4103\n",
      "88  79.7436  66.7949\n",
      "89  81.7949  60.2564\n",
      "90  83.3333  55.2564\n",
      "91  85.1282  51.4103\n",
      "0      55.3846\n",
      "1      51.5385\n",
      "2      46.1538\n",
      "3      42.8205\n",
      "4      40.7692\n",
      "5      38.7179\n",
      "6      35.6410\n",
      "7      33.0769\n",
      "8      28.9744\n",
      "9      26.1538\n",
      "10     23.0769\n",
      "11     22.3077\n",
      "12     22.3077\n",
      "13     23.3333\n",
      "14     25.8974\n",
      "15     29.4872\n",
      "16     32.8205\n",
      "17     35.3846\n",
      "18     40.2564\n",
      "19     44.1026\n",
      "20     46.6667\n",
      "21     50.0000\n",
      "22     53.0769\n",
      "23     56.6667\n",
      "24     59.2308\n",
      "25     61.2821\n",
      "26     61.5385\n",
      "27     61.7949\n",
      "28     57.4359\n",
      "29     54.8718\n",
      "        ...   \n",
      "112    52.3077\n",
      "113    49.7436\n",
      "114    47.4359\n",
      "115    44.8718\n",
      "116    48.7179\n",
      "117    51.2821\n",
      "118    54.1026\n",
      "119    56.1538\n",
      "120    52.0513\n",
      "121    48.7179\n",
      "122    47.1795\n",
      "123    46.1538\n",
      "124    50.5128\n",
      "125    53.8462\n",
      "126    57.4359\n",
      "127    60.0000\n",
      "128    64.1026\n",
      "129    66.9231\n",
      "130    71.2821\n",
      "131    74.3590\n",
      "132    78.2051\n",
      "133    67.9487\n",
      "134    68.4615\n",
      "135    68.2051\n",
      "136    37.6923\n",
      "137    39.4872\n",
      "138    91.2821\n",
      "139    50.0000\n",
      "140    47.9487\n",
      "141    44.1026\n",
      "Name: x, Length: 142, dtype: float64\n"
     ]
    },
    {
     "data": {
      "text/plain": [
       "<matplotlib.axes._subplots.AxesSubplot at 0x25d0dfdba20>"
      ]
     },
     "metadata": {},
     "output_type": "display_data"
    },
    {
     "data": {
      "text/plain": [
       "<matplotlib.axes._subplots.AxesSubplot at 0x25d0e100b00>"
      ]
     },
     "metadata": {},
     "output_type": "display_data"
    },
    {
     "data": {
      "image/png": "[encoded data removed]",
      "text/plain": [
       "<Figure size 432x288 with 1 Axes>"
      ]
     },
     "metadata": {},
     "output_type": "display_data"
    },
    {
     "data": {
      "image/png": "[encoded data removed]",
      "text/plain": [
       "<Figure size 432x288 with 1 Axes>"
      ]
     },
     "metadata": {},
     "output_type": "display_data"
    }
   ],
   "source": [
    "#file df1.csv\n",
    "df_df1 = pd.read_csv(ds1)\n",
    "print(df_df1.head())\n",
    "print(df_df1.tail())\n",
    "print(df_df1.describe())\n",
    "df_ds1_byx = df_df1[df_df1.x > 50 ]\n",
    "df_ds1_byxy = df_ds1_byx[df_ds1_byx.y > 50]\n",
    "print(df_ds1_byxy.head())\n",
    "#another type filtering using and (&)\n",
    "df_ds1_byx_useand = df_df1[ (df_df1.x > 50) & (df_df1.y > 50) ]\n",
    "print(\"\\n filtering using another type and \\n\",df_ds1_byx_useand)\n",
    "#creating series\n",
    "print(df_df1.x)\n",
    "display(df_df1.x.plot())\n",
    "display(df_df1.plot.scatter('x','y',title='scatter'))"
   ]
  },
  {
   "cell_type": "code",
   "execution_count": 35,
   "metadata": {},
   "outputs": [
    {
     "name": "stdout",
     "output_type": "stream",
     "text": [
      "           x          y\n",
      "0  32.331110  61.411101\n",
      "1  53.421463  26.186880\n",
      "2  63.920202  30.832194\n",
      "3  70.289506  82.533649\n",
      "4  34.118830  45.734551\n",
      "             x          y\n",
      "137  59.851838  72.958391\n",
      "138  48.960460  72.629526\n",
      "139  46.844855  36.791714\n",
      "140  39.963022  42.944915\n",
      "141  66.704944  32.015095\n",
      "                x           y\n",
      "count  142.000000  142.000000\n",
      "mean    54.266100   47.834721\n",
      "std     16.769825   26.939743\n",
      "min     15.560750    0.015119\n",
      "25%     39.724115   24.625892\n",
      "50%     53.340296   47.535269\n",
      "75%     69.146597   71.803148\n",
      "max     91.639961   97.475771\n",
      "            x          y\n",
      "3   70.289506  82.533649\n",
      "6   53.259129  97.475771\n",
      "8   67.980539  80.957165\n",
      "11  71.790768  71.065467\n",
      "13  64.937436  81.554205\n",
      "\n",
      " filtering using another type and \n",
      "              x          y\n",
      "3    70.289506  82.533649\n",
      "6    53.259129  97.475771\n",
      "8    67.980539  80.957165\n",
      "11   71.790768  71.065467\n",
      "13   64.937436  81.554205\n",
      "19   76.166920  75.936170\n",
      "29   64.568264  83.639634\n",
      "30   74.021694  76.128275\n",
      "32   74.189037  68.133583\n",
      "34   75.771939  69.829230\n",
      "35   75.855229  62.517044\n",
      "36   65.970857  72.744856\n",
      "38   67.759796  72.421202\n",
      "39   78.617195  52.575257\n",
      "44   58.912460  75.667756\n",
      "46   76.088226  59.679930\n",
      "50   64.405075  78.584176\n",
      "54   68.230769  80.872502\n",
      "66   78.079421  93.133317\n",
      "74   75.401227  88.639077\n",
      "76   65.219914  84.682955\n",
      "87   91.639961  79.406603\n",
      "95   69.359559  65.521355\n",
      "99   70.040544  77.143807\n",
      "101  62.516891  66.484732\n",
      "112  50.583963  71.806616\n",
      "113  61.856465  71.792743\n",
      "120  56.584153  70.512515\n",
      "127  59.832185  69.152508\n",
      "130  63.250197  65.952486\n",
      "133  62.833293  62.510894\n",
      "135  52.033456  64.566662\n",
      "137  59.851838  72.958391\n",
      "\n",
      "\n",
      " series\n",
      " 0      32.331110\n",
      "1      53.421463\n",
      "2      63.920202\n",
      "3      70.289506\n",
      "4      34.118830\n",
      "5      67.670716\n",
      "6      53.259129\n",
      "7      63.514981\n",
      "8      67.980539\n",
      "9      67.372466\n",
      "10     15.560750\n",
      "11     71.790768\n",
      "12     70.242546\n",
      "13     64.937436\n",
      "14     62.213525\n",
      "15     67.269400\n",
      "16     40.570197\n",
      "17     74.741181\n",
      "18     71.768319\n",
      "19     76.166920\n",
      "20     65.623657\n",
      "21     50.850634\n",
      "22     33.024070\n",
      "23     39.706326\n",
      "24     45.596485\n",
      "25     42.968047\n",
      "26     52.494407\n",
      "27     46.082276\n",
      "28     74.247708\n",
      "29     64.568264\n",
      "         ...    \n",
      "112    50.583963\n",
      "113    61.856465\n",
      "114    39.323756\n",
      "115    42.185679\n",
      "116    30.846919\n",
      "117    29.346200\n",
      "118    82.110558\n",
      "119    38.302006\n",
      "120    56.584153\n",
      "121    33.339374\n",
      "122    78.774239\n",
      "123    27.922644\n",
      "124    71.697865\n",
      "125    74.138331\n",
      "126    32.579020\n",
      "127    59.832185\n",
      "128    35.030629\n",
      "129    74.300120\n",
      "130    63.250197\n",
      "131    34.173074\n",
      "132    40.913832\n",
      "133    62.833293\n",
      "134    42.476792\n",
      "135    52.033456\n",
      "136    48.907043\n",
      "137    59.851838\n",
      "138    48.960460\n",
      "139    46.844855\n",
      "140    39.963022\n",
      "141    66.704944\n",
      "Name: x, Length: 142, dtype: float64\n"
     ]
    },
    {
     "data": {
      "text/plain": [
       "<matplotlib.axes._subplots.AxesSubplot at 0x25d0e19e198>"
      ]
     },
     "metadata": {},
     "output_type": "display_data"
    },
    {
     "data": {
      "text/plain": [
       "<matplotlib.axes._subplots.AxesSubplot at 0x25d0df95e10>"
      ]
     },
     "metadata": {},
     "output_type": "display_data"
    },
    {
     "data": {
      "image/png": "[encoded data removed]",
      "text/plain": [
       "<Figure size 432x288 with 1 Axes>"
      ]
     },
     "metadata": {},
     "output_type": "display_data"
    },
    {
     "data": {
      "image/png": "[encoded data removed]",
      "text/plain": [
       "<Figure size 432x288 with 1 Axes>"
      ]
     },
     "metadata": {},
     "output_type": "display_data"
    }
   ],
   "source": [
    "#file df2.csv\n",
    "df_df2 = pd.read_csv(ds2)\n",
    "print(df_df2.head())\n",
    "print(df_df2.tail())\n",
    "print(df_df2.describe())\n",
    "df_ds2_byx = df_df2[df_df2.x > 50 ]\n",
    "df_ds2_byxy = df_ds2_byx[df_ds2_byx.y > 50]\n",
    "print(df_ds2_byxy.head())\n",
    "#another type filtering using and (&)\n",
    "df_ds2_byx_useand = df_df2[ (df_df2.x > 50) & (df_df2.y > 50) ]\n",
    "print(\"\\n filtering using another type and \\n\",df_ds2_byx_useand)\n",
    "#creating series\n",
    "print(\"\\n\\n series\\n\",df_df2.x)\n",
    "display(df_df2.x.plot())\n",
    "display(df_df2.plot.scatter('x','y',title='scatter'))"
   ]
  },
  {
   "cell_type": "code",
   "execution_count": 37,
   "metadata": {},
   "outputs": [
    {
     "name": "stdout",
     "output_type": "stream",
     "text": [
      "           x          y\n",
      "0  58.213608  91.881892\n",
      "1  58.196054  92.214989\n",
      "2  58.718231  90.310532\n",
      "3  57.278373  89.907607\n",
      "4  58.082020  92.008145\n",
      "             x          y\n",
      "137  43.722551  19.077328\n",
      "138  79.326078  52.900391\n",
      "139  56.663974  87.940125\n",
      "140  57.821789  90.693167\n",
      "141  58.243172  92.104328\n",
      "                x           y\n",
      "count  142.000000  142.000000\n",
      "mean    54.267341   47.839545\n",
      "std     16.768959   26.930275\n",
      "min     27.024603   14.365590\n",
      "25%     41.034210   20.374135\n",
      "50%     56.534732   50.110554\n",
      "75%     68.711493   63.548584\n",
      "max     86.435897   92.214989\n",
      "           x          y\n",
      "0  58.213608  91.881892\n",
      "1  58.196054  92.214989\n",
      "2  58.718231  90.310532\n",
      "3  57.278373  89.907607\n",
      "4  58.082020  92.008145\n",
      "\n",
      " filtering using another type and \n",
      "              x          y\n",
      "0    58.213608  91.881892\n",
      "1    58.196054  92.214989\n",
      "2    58.718231  90.310532\n",
      "3    57.278373  89.907607\n",
      "4    58.082020  92.008145\n",
      "5    57.489448  88.085286\n",
      "24   64.892788  65.814177\n",
      "25   62.490149  74.584290\n",
      "26   68.988084  63.232147\n",
      "27   62.105619  75.990871\n",
      "61   77.392982  63.371459\n",
      "62   64.400787  67.448718\n",
      "63   63.868960  70.213739\n",
      "64   56.594421  86.927006\n",
      "65   56.531337  87.499811\n",
      "66   59.652158  87.809462\n",
      "67   56.636509  85.637496\n",
      "68   58.672288  90.077160\n",
      "69   58.221613  90.411019\n",
      "70   57.914664  89.953803\n",
      "71   55.315509  80.251861\n",
      "72   54.575729  77.536288\n",
      "73   54.413094  78.229087\n",
      "74   55.074506  79.817546\n",
      "78   58.461839  90.265326\n",
      "79   57.997805  92.159909\n",
      "80   57.549474  90.748907\n",
      "81   59.529928  88.327274\n",
      "82   58.249391  92.129681\n",
      "83   58.024514  91.694421\n",
      "84   58.382124  90.553476\n",
      "85   62.566759  77.743935\n",
      "86   72.175824  63.128929\n",
      "87   79.472762  63.408686\n",
      "88   80.357701  63.295438\n",
      "89   78.757236  53.332620\n",
      "90   82.540240  56.541052\n",
      "91   86.435897  59.792762\n",
      "92   79.488684  53.651674\n",
      "93   81.530420  56.025365\n",
      "94   79.186789  53.234792\n",
      "95   77.899058  51.822458\n",
      "138  79.326078  52.900391\n",
      "139  56.663974  87.940125\n",
      "140  57.821789  90.693167\n",
      "141  58.243172  92.104328\n",
      "\n",
      "series\n",
      " 0      58.213608\n",
      "1      58.196054\n",
      "2      58.718231\n",
      "3      57.278373\n",
      "4      58.082020\n",
      "5      57.489448\n",
      "6      28.088741\n",
      "7      28.085468\n",
      "8      28.087273\n",
      "9      27.578025\n",
      "10     27.779919\n",
      "11     28.589000\n",
      "12     28.739141\n",
      "13     27.024603\n",
      "14     28.801337\n",
      "15     27.186464\n",
      "16     29.285147\n",
      "17     39.402945\n",
      "18     28.811328\n",
      "19     34.303958\n",
      "20     29.602761\n",
      "21     49.116157\n",
      "22     39.617546\n",
      "23     43.233085\n",
      "24     64.892788\n",
      "25     62.490149\n",
      "26     68.988084\n",
      "27     62.105619\n",
      "28     32.461847\n",
      "29     41.327201\n",
      "         ...    \n",
      "112    42.476540\n",
      "113    43.595116\n",
      "114    50.339970\n",
      "115    40.748980\n",
      "116    38.386526\n",
      "117    38.404015\n",
      "118    38.764279\n",
      "119    41.470142\n",
      "120    47.155405\n",
      "121    39.582567\n",
      "122    41.740244\n",
      "123    39.311872\n",
      "124    41.679848\n",
      "125    39.087464\n",
      "126    41.481503\n",
      "127    77.606087\n",
      "128    75.982662\n",
      "129    76.945757\n",
      "130    77.543720\n",
      "131    77.584740\n",
      "132    76.822304\n",
      "133    77.348572\n",
      "134    77.573153\n",
      "135    77.972611\n",
      "136    41.528920\n",
      "137    43.722551\n",
      "138    79.326078\n",
      "139    56.663974\n",
      "140    57.821789\n",
      "141    58.243172\n",
      "Name: x, Length: 142, dtype: float64\n"
     ]
    },
    {
     "data": {
      "text/plain": [
       "<matplotlib.axes._subplots.AxesSubplot at 0x25d0e12a860>"
      ]
     },
     "metadata": {},
     "output_type": "display_data"
    },
    {
     "data": {
      "text/plain": [
       "<matplotlib.axes._subplots.AxesSubplot at 0x25d0df77908>"
      ]
     },
     "metadata": {},
     "output_type": "display_data"
    },
    {
     "data": {
      "image/png": "[encoded data removed]",
      "text/plain": [
       "<Figure size 432x288 with 1 Axes>"
      ]
     },
     "metadata": {},
     "output_type": "display_data"
    },
    {
     "data": {
      "image/png": "[encoded data removed]",
      "text/plain": [
       "<Figure size 432x288 with 1 Axes>"
      ]
     },
     "metadata": {},
     "output_type": "display_data"
    }
   ],
   "source": [
    "#file df3.csv\n",
    "df_df3 = pd.read_csv(ds3)\n",
    "print(df_df3.head())\n",
    "print(df_df3.tail())\n",
    "print(df_df3.describe())\n",
    "df_ds3_byx = df_df3[df_df3.x > 50 ]\n",
    "df_ds3_byxy = df_ds3_byx[df_ds3_byx.y > 50]\n",
    "print(df_ds3_byxy.head())\n",
    "#another type filtering using and (&)\n",
    "df_ds3_byx_useand = df_df3[ (df_df3.x > 50) & (df_df3.y > 50) ]\n",
    "print(\"\\n filtering using another type and \\n\",df_ds3_byx_useand)\n",
    "#creating series\n",
    "print(\"\\nseries\\n\",df_df3.x)\n",
    "display(df_df3.x.plot())\n",
    "display(df_df3.plot.scatter('x','y',title='scatter'))"
   ]
  },
  {
   "cell_type": "markdown",
   "metadata": {},
   "source": [
    "# Further Practice\n",
    "\n",
    "If you finish this task you can practice more with pandas data frames by following the examples in the text, section 2.6.  The CSV file that they use in that section is available in the `files` directory of this repository as `educ_figdp_1_Data.csv`.   "
   ]
  },
  {
   "cell_type": "code",
   "execution_count": 42,
   "metadata": {},
   "outputs": [
    {
     "data": {
      "text/html": [
       "<div>\n",
       "<style scoped>\n",
       "    .dataframe tbody tr th:only-of-type {\n",
       "        vertical-align: middle;\n",
       "    }\n",
       "\n",
       "    .dataframe tbody tr th {\n",
       "        vertical-align: top;\n",
       "    }\n",
       "\n",
       "    .dataframe thead th {\n",
       "        text-align: right;\n",
       "    }\n",
       "</style>\n",
       "<table border=\"1\" class=\"dataframe\">\n",
       "  <thead>\n",
       "    <tr style=\"text-align: right;\">\n",
       "      <th></th>\n",
       "      <th>TIME</th>\n",
       "      <th>GEO</th>\n",
       "      <th>INDIC_ED</th>\n",
       "      <th>Value</th>\n",
       "    </tr>\n",
       "  </thead>\n",
       "  <tbody>\n",
       "    <tr>\n",
       "      <th>0</th>\n",
       "      <td>2002</td>\n",
       "      <td>European Union (27 countries)</td>\n",
       "      <td>Total public expenditure on education as % of ...</td>\n",
       "      <td>5.10</td>\n",
       "    </tr>\n",
       "    <tr>\n",
       "      <th>1</th>\n",
       "      <td>2002</td>\n",
       "      <td>European Union (27 countries)</td>\n",
       "      <td>Total public expenditure on education as % of ...</td>\n",
       "      <td>1.14</td>\n",
       "    </tr>\n",
       "    <tr>\n",
       "      <th>2</th>\n",
       "      <td>2002</td>\n",
       "      <td>European Union (27 countries)</td>\n",
       "      <td>Total public expenditure on education as % of ...</td>\n",
       "      <td>2.32</td>\n",
       "    </tr>\n",
       "    <tr>\n",
       "      <th>3</th>\n",
       "      <td>2002</td>\n",
       "      <td>European Union (27 countries)</td>\n",
       "      <td>Total public expenditure on education as % of ...</td>\n",
       "      <td>1.15</td>\n",
       "    </tr>\n",
       "    <tr>\n",
       "      <th>4</th>\n",
       "      <td>2002</td>\n",
       "      <td>European Union (27 countries)</td>\n",
       "      <td>Total public expenditure on education as % of ...</td>\n",
       "      <td>0.50</td>\n",
       "    </tr>\n",
       "  </tbody>\n",
       "</table>\n",
       "</div>"
      ],
      "text/plain": [
       "   TIME                            GEO  \\\n",
       "0  2002  European Union (27 countries)   \n",
       "1  2002  European Union (27 countries)   \n",
       "2  2002  European Union (27 countries)   \n",
       "3  2002  European Union (27 countries)   \n",
       "4  2002  European Union (27 countries)   \n",
       "\n",
       "                                            INDIC_ED Value  \n",
       "0  Total public expenditure on education as % of ...  5.10  \n",
       "1  Total public expenditure on education as % of ...  1.14  \n",
       "2  Total public expenditure on education as % of ...  2.32  \n",
       "3  Total public expenditure on education as % of ...  1.15  \n",
       "4  Total public expenditure on education as % of ...  0.50  "
      ]
     },
     "execution_count": 42,
     "metadata": {},
     "output_type": "execute_result"
    }
   ],
   "source": [
    "edufile = 'files/educ_figdp_1_Data.csv'\n",
    "csv_df = pd.read_csv(edufile)\n",
    "csv_df.head()"
   ]
  },
  {
   "cell_type": "code",
   "execution_count": 47,
   "metadata": {},
   "outputs": [
    {
     "data": {
      "text/plain": [
       "TIME        4920\n",
       "GEO         4920\n",
       "INDIC_ED    4920\n",
       "Value       4920\n",
       "dtype: int64"
      ]
     },
     "execution_count": 47,
     "metadata": {},
     "output_type": "execute_result"
    }
   ],
   "source": [
    "csv_df.describe()\n",
    "csv_df.count()"
   ]
  },
  {
   "cell_type": "code",
   "execution_count": 50,
   "metadata": {},
   "outputs": [
    {
     "data": {
      "text/plain": [
       "TIME         int64\n",
       "GEO         object\n",
       "INDIC_ED    object\n",
       "Value       object\n",
       "dtype: object"
      ]
     },
     "execution_count": 50,
     "metadata": {},
     "output_type": "execute_result"
    }
   ],
   "source": [
    "csv_df.dtypes"
   ]
  },
  {
   "cell_type": "code",
   "execution_count": 69,
   "metadata": {},
   "outputs": [],
   "source": [
    "data2002 = csv_df[csv_df['TIME']==2002]\n",
    "#filtering data on INDIC_ED 'Total public expenditure on education as % of total public expenditure, for all levels of education combined'\n",
    "filterd2002 = data2002[data2002['INDIC_ED'] == 'Total public expenditure on education as % of total public expenditure, for all levels of education combined']"
   ]
  },
  {
   "cell_type": "code",
   "execution_count": 108,
   "metadata": {},
   "outputs": [],
   "source": [
    "#cleaning\n",
    "filterd2002 = filterd2002.replace(':','0')\n",
    "#changing data type of value \n",
    "filterd2002['Value'] = pd.to_numeric(filterd2002['Value'])"
   ]
  },
  {
   "cell_type": "code",
   "execution_count": 130,
   "metadata": {},
   "outputs": [
    {
     "data": {
      "text/plain": [
       "Text(0.5,1,'in 2002 Total public expenditure on education as % of total public expenditure, for all levels of education combined ')"
      ]
     },
     "execution_count": 130,
     "metadata": {},
     "output_type": "execute_result"
    },
    {
     "data": {
      "image/png": "[encoded data removed]",
      "text/plain": [
       "<Figure size 432x288 with 1 Axes>"
      ]
     },
     "metadata": {},
     "output_type": "display_data"
    }
   ],
   "source": [
    "plt.xticks(rotation=90)\n",
    "plt.plot(filterd2002['GEO'],filterd2002['Value'])\n",
    "plt.title(\"in 2002 Total public expenditure on education as % of total public expenditure, for all levels of education combined \")"
   ]
  },
  {
   "cell_type": "code",
   "execution_count": null,
   "metadata": {},
   "outputs": [],
   "source": []
  }
 ],
 "metadata": {
  "kernelspec": {
   "display_name": "Python 3",
   "language": "python",
   "name": "python3"
  },
  "language_info": {
   "codemirror_mode": {
    "name": "ipython",
    "version": 3
   },
   "file_extension": ".py",
   "mimetype": "text/x-python",
   "name": "python",
   "nbconvert_exporter": "python",
   "pygments_lexer": "ipython3",
   "version": "3.6.5"
  }
 },
 "nbformat": 4,
 "nbformat_minor": 2
}
